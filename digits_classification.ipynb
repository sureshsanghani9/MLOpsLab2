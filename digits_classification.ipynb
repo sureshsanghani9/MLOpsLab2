{
 "cells": [
  {
   "cell_type": "code",
   "execution_count": 30,
   "id": "8623234e",
   "metadata": {},
   "outputs": [],
   "source": [
    "import matplotlib.pyplot as plt\n",
    "from sklearn import datasets, svm, metrics\n",
    "from sklearn.model_selection import train_test_split\n",
    "import pandas as pd\n",
    "from skimage.transform import rescale, resize, downscale_local_mean\n",
    "import numpy as np"
   ]
  },
  {
   "cell_type": "code",
   "execution_count": 43,
   "id": "1338ab6f",
   "metadata": {},
   "outputs": [],
   "source": [
    "digits = datasets.load_digits()\n",
    "\n",
    "def run_with_hyperparameters(imgs, target, res):\n",
    "    gamma_lst = [0.02, 0.007, 0.003, 0.0009, 0.0001, 0.0006]\n",
    "    c_lst = [0.1, 0.3, 0.8, 0.7, 2, 0.4] \n",
    "\n",
    "    h_params = [{'gamma':g, 'C':c} for g in gamma_lst for c in c_lst]\n",
    "\n",
    "    train_f = 0.8\n",
    "    test_f = 0.1\n",
    "    dev_f = 0.1\n",
    "\n",
    "    n_samples = len(imgs)\n",
    "    data = imgs.reshape((n_samples, -1))\n",
    "\n",
    "    dev_test_f = 1-train_f\n",
    "    X_train, X_dev_test, y_train, y_dev_test = train_test_split(\n",
    "        data, target, test_size=dev_test_f, shuffle=True\n",
    "    )\n",
    "    X_test, X_dev, y_test, y_dev = train_test_split(\n",
    "        X_dev_test, y_dev_test, test_size=(dev_f)/dev_test_f, shuffle=True\n",
    "    )\n",
    "\n",
    "\n",
    "    best_accuracy = -1.0\n",
    "    best_model = None\n",
    "    best_h_params = None\n",
    "\n",
    "    best_train_accuracy = -1.0\n",
    "    best_dev_accuracy = -1.0\n",
    "    best_test_accuracy = -1.0\n",
    "\n",
    "    h_param_results = []\n",
    "    for cur_h_params in h_params:\n",
    "\n",
    "        clf = svm.SVC()\n",
    "\n",
    "        hyper_params = cur_h_params\n",
    "        clf.set_params(**hyper_params)\n",
    "\n",
    "        clf.fit(X_train, y_train)\n",
    "\n",
    "        predicted_dev = clf.predict(X_dev)\n",
    "        predicted_train = clf.predict(X_train)\n",
    "        predicted_test = clf.predict(X_test)\n",
    "\n",
    "        cur_acc = metrics.accuracy_score(y_pred=predicted_dev, y_true=y_dev)\n",
    "        cur_train_acc = metrics.accuracy_score(y_pred=predicted_train, y_true=y_train)\n",
    "        cur_test_acc = metrics.accuracy_score(y_pred=predicted_test, y_true=y_test)\n",
    "\n",
    "        h_param_results.append([hyper_params['gamma'], hyper_params['C'], cur_acc, cur_train_acc, cur_test_acc])\n",
    "        if cur_acc > best_accuracy:\n",
    "            best_accuracy = cur_acc\n",
    "            best_dev_accuracy = cur_acc\n",
    "            best_train_accuracy = cur_train_acc\n",
    "            best_test_accuracy = cur_test_acc\n",
    "            best_model = clf\n",
    "            best_h_params = cur_h_params\n",
    "\n",
    "    df_h_param_results = pd.DataFrame(h_param_results, columns =['Gamma', 'C', 'Dev_Accuracy', 'Train_Accuracy', 'Test_Accuracy'])\n",
    "    print(\"\\n================================Hyperparameter and Results==================================================\")\n",
    "    print(df_h_param_results.head(10))\n",
    "\n",
    "    predicted = best_model.predict(X_test)\n",
    "\n",
    "    print(\"\\n\")    \n",
    "    print(\"\\n================================Report=====================================================================\")\n",
    "    print(\n",
    "        f\"Classification report for classifier {best_model}:\\n\"\n",
    "        f\"{metrics.classification_report(y_test, predicted)}\\n\"\n",
    "    )\n",
    "\n",
    "    print(\"\\n\") \n",
    "    print(\"\\n================================Best hyperparameters and Accuracy===========================================\")\n",
    "    print(\"Best C:\" + str(best_h_params['C']) + \" and Gamma:\" + str(best_h_params['gamma']) )\n",
    "    print(\"Best Dev Accuracy:\" + str(best_dev_accuracy))\n",
    "    print(\"Best Train Accuracy:\" + str(best_train_accuracy))\n",
    "    print(\"Best Test Accuracy:\" + str(best_test_accuracy))\n",
    "\n",
    "    print(\"\\n\") \n",
    "    print(\"\\n================================Predicted Images=============================================================\")\n",
    "    _, axes = plt.subplots(nrows=1, ncols=4, figsize=(10, 3))\n",
    "    for ax, image, prediction in zip(axes, X_test, predicted):\n",
    "        ax.set_axis_off()\n",
    "        image = image.reshape(res, res)\n",
    "        ax.imshow(image, cmap=plt.cm.gray_r, interpolation=\"nearest\")\n",
    "        ax.set_title(f\"Prediction: {prediction}\")"
   ]
  },
  {
   "cell_type": "code",
   "execution_count": 26,
   "id": "36183c7c",
   "metadata": {},
   "outputs": [
    {
     "name": "stdout",
     "output_type": "stream",
     "text": [
      "\n",
      "================================Hyperparameter and Results==================================================\n",
      "   Gamma    C  Dev_Accuracy  Train_Accuracy  Test_Accuracy\n",
      "0  0.020  0.1      0.093923        0.108559       0.044693\n",
      "1  0.020  0.3      0.093923        0.108559       0.044693\n",
      "2  0.020  0.8      0.104972        1.000000       0.061453\n",
      "3  0.020  0.7      0.099448        1.000000       0.050279\n",
      "4  0.020  2.0      0.337017        1.000000       0.312849\n",
      "5  0.020  0.4      0.093923        0.118998       0.044693\n",
      "6  0.007  0.1      0.099448        0.113431       0.044693\n",
      "7  0.007  0.3      0.397790        0.818372       0.418994\n",
      "8  0.007  0.8      0.917127        1.000000       0.921788\n",
      "9  0.007  0.7      0.867403        1.000000       0.893855\n",
      "\n",
      "\n",
      "\n",
      "================================Report=====================================================================\n",
      "Classification report for classifier SVC(C=0.8, gamma=0.003):\n",
      "              precision    recall  f1-score   support\n",
      "\n",
      "           0       1.00      1.00      1.00        23\n",
      "           1       0.90      1.00      0.95        19\n",
      "           2       1.00      1.00      1.00        24\n",
      "           3       1.00      1.00      1.00        14\n",
      "           4       1.00      1.00      1.00        14\n",
      "           5       1.00      1.00      1.00        20\n",
      "           6       1.00      1.00      1.00         8\n",
      "           7       1.00      1.00      1.00        18\n",
      "           8       1.00      0.92      0.96        25\n",
      "           9       1.00      1.00      1.00        14\n",
      "\n",
      "    accuracy                           0.99       179\n",
      "   macro avg       0.99      0.99      0.99       179\n",
      "weighted avg       0.99      0.99      0.99       179\n",
      "\n",
      "\n",
      "\n",
      "\n",
      "\n",
      "================================Best hyperparameters and Accuracy===========================================\n",
      "Best C:0.8 and Gamma:0.003\n",
      "Best Dev Accuracy:0.988950276243094\n",
      "Best Train Accuracy:1.0\n",
      "Best Test Accuracy:0.9888268156424581\n",
      "\n",
      "\n",
      "\n",
      "================================Predicted Images=============================================================\n"
     ]
    },
    {
     "data": {
      "image/png": "[encoded data removed]",
      "text/plain": [
       "<Figure size 720x216 with 4 Axes>"
      ]
     },
     "metadata": {
      "needs_background": "light"
     },
     "output_type": "display_data"
    }
   ],
   "source": [
    "run_with_hyperparameters(digits.images, digits.target, res=8)"
   ]
  },
  {
   "cell_type": "code",
   "execution_count": 49,
   "id": "36c54680",
   "metadata": {},
   "outputs": [
    {
     "name": "stdout",
     "output_type": "stream",
     "text": [
      "\n",
      "================================Current Image size=============================================================\n",
      "Current Image size: (8, 8)\n"
     ]
    }
   ],
   "source": [
    "print(\"\\n================================Current Image size=============================================================\")\n",
    "print(\"Current Image size: \" + str(digits.images[0].shape))"
   ]
  },
  {
   "cell_type": "code",
   "execution_count": 45,
   "id": "93c01f4f",
   "metadata": {},
   "outputs": [],
   "source": [
    "def resize_images(res, imgs):\n",
    "    print(\"\\n================================Current Image size=============================================================\")\n",
    "    print(\"Current Image size: \" + str(digits.images[0].shape))\n",
    "    print(\"\\n================================New Image size=============================================================\")\n",
    "    print(\"Image Resolution: \" + '(' + str(res) + ',' + str(res) + ')')\n",
    "    arr = []\n",
    "    for im in imgs:\n",
    "        image_resized = resize(im, (res, res), anti_aliasing=True)\n",
    "        arr.append(image_resized)\n",
    "    return np.array(arr)"
   ]
  },
  {
   "cell_type": "code",
   "execution_count": 46,
   "id": "636cebfd",
   "metadata": {},
   "outputs": [
    {
     "name": "stdout",
     "output_type": "stream",
     "text": [
      "\n",
      "================================Current Image size=============================================================\n",
      "Current Image size: (8, 8)\n",
      "\n",
      "================================New Image size=============================================================\n",
      "Image Resolution: (6,6)\n",
      "\n",
      "================================Hyperparameter and Results==================================================\n",
      "   Gamma    C  Dev_Accuracy  Train_Accuracy  Test_Accuracy\n",
      "0  0.020  0.1      0.220994        0.285317       0.217877\n",
      "1  0.020  0.3      0.895028        0.995129       0.865922\n",
      "2  0.020  0.8      0.944751        1.000000       0.938547\n",
      "3  0.020  0.7      0.944751        1.000000       0.932961\n",
      "4  0.020  2.0      0.961326        1.000000       0.955307\n",
      "5  0.020  0.4      0.922652        0.999304       0.899441\n",
      "6  0.007  0.1      0.961326        0.976340       0.949721\n",
      "7  0.007  0.3      0.977901        0.994433       0.977654\n",
      "8  0.007  0.8      0.988950        0.999304       0.977654\n",
      "9  0.007  0.7      0.988950        0.999304       0.977654\n",
      "\n",
      "\n",
      "\n",
      "================================Report=====================================================================\n",
      "Classification report for classifier SVC(C=2, gamma=0.0009):\n",
      "              precision    recall  f1-score   support\n",
      "\n",
      "           0       1.00      1.00      1.00        14\n",
      "           1       0.95      1.00      0.98        21\n",
      "           2       1.00      1.00      1.00        20\n",
      "           3       1.00      1.00      1.00        19\n",
      "           4       1.00      1.00      1.00        16\n",
      "           5       0.93      0.93      0.93        15\n",
      "           6       1.00      1.00      1.00        18\n",
      "           7       0.94      1.00      0.97        17\n",
      "           8       1.00      0.91      0.95        22\n",
      "           9       0.94      0.94      0.94        17\n",
      "\n",
      "    accuracy                           0.98       179\n",
      "   macro avg       0.98      0.98      0.98       179\n",
      "weighted avg       0.98      0.98      0.98       179\n",
      "\n",
      "\n",
      "\n",
      "\n",
      "\n",
      "================================Best hyperparameters and Accuracy===========================================\n",
      "Best C:2 and Gamma:0.0009\n",
      "Best Dev Accuracy:0.994475138121547\n",
      "Best Train Accuracy:0.9944328462073765\n",
      "Best Test Accuracy:0.9776536312849162\n",
      "\n",
      "\n",
      "\n",
      "================================Predicted Images=============================================================\n"
     ]
    },
    {
     "data": {
      "image/png": "[encoded data removed]",
      "text/plain": [
       "<Figure size 720x216 with 4 Axes>"
      ]
     },
     "metadata": {
      "needs_background": "light"
     },
     "output_type": "display_data"
    }
   ],
   "source": [
    "#new resolution 6*6\n",
    "res = 6\n",
    "run_with_hyperparameters(resize_images(res,digits.images), digits.target, res)"
   ]
  },
  {
   "cell_type": "code",
   "execution_count": 47,
   "id": "ad2fdc5b",
   "metadata": {},
   "outputs": [
    {
     "name": "stdout",
     "output_type": "stream",
     "text": [
      "\n",
      "================================Current Image size=============================================================\n",
      "Current Image size: (8, 8)\n",
      "\n",
      "================================New Image size=============================================================\n",
      "Image Resolution: (12,12)\n",
      "\n",
      "================================Hyperparameter and Results==================================================\n",
      "   Gamma    C  Dev_Accuracy  Train_Accuracy  Test_Accuracy\n",
      "0  0.020  0.1      0.071823        0.105776       0.089385\n",
      "1  0.020  0.3      0.071823        0.105776       0.089385\n",
      "2  0.020  0.8      0.077348        1.000000       0.094972\n",
      "3  0.020  0.7      0.071823        1.000000       0.089385\n",
      "4  0.020  2.0      0.270718        1.000000       0.301676\n",
      "5  0.020  0.4      0.071823        0.108559       0.089385\n",
      "6  0.007  0.1      0.071823        0.106472       0.089385\n",
      "7  0.007  0.3      0.220994        0.583855       0.273743\n",
      "8  0.007  0.8      0.767956        1.000000       0.832402\n",
      "9  0.007  0.7      0.707182        1.000000       0.793296\n",
      "\n",
      "\n",
      "\n",
      "================================Report=====================================================================\n",
      "Classification report for classifier SVC(C=0.8, gamma=0.0009):\n",
      "              precision    recall  f1-score   support\n",
      "\n",
      "           0       1.00      0.93      0.96        14\n",
      "           1       1.00      1.00      1.00        18\n",
      "           2       1.00      1.00      1.00        12\n",
      "           3       1.00      1.00      1.00        19\n",
      "           4       0.94      1.00      0.97        16\n",
      "           5       1.00      1.00      1.00        20\n",
      "           6       1.00      1.00      1.00        26\n",
      "           7       1.00      1.00      1.00        19\n",
      "           8       1.00      1.00      1.00        17\n",
      "           9       1.00      1.00      1.00        18\n",
      "\n",
      "    accuracy                           0.99       179\n",
      "   macro avg       0.99      0.99      0.99       179\n",
      "weighted avg       0.99      0.99      0.99       179\n",
      "\n",
      "\n",
      "\n",
      "\n",
      "\n",
      "================================Best hyperparameters and Accuracy===========================================\n",
      "Best C:0.8 and Gamma:0.0009\n",
      "Best Dev Accuracy:0.994475138121547\n",
      "Best Train Accuracy:0.9986082115518441\n",
      "Best Test Accuracy:0.994413407821229\n",
      "\n",
      "\n",
      "\n",
      "================================Predicted Images=============================================================\n"
     ]
    },
    {
     "data": {
      "image/png": "[encoded data removed]",
      "text/plain": [
       "<Figure size 720x216 with 4 Axes>"
      ]
     },
     "metadata": {
      "needs_background": "light"
     },
     "output_type": "display_data"
    }
   ],
   "source": [
    "#new resolution 12*12\n",
    "res = 12\n",
    "run_with_hyperparameters(resize_images(res,digits.images), digits.target, res)"
   ]
  },
  {
   "cell_type": "code",
   "execution_count": 48,
   "id": "d5ac87d0",
   "metadata": {},
   "outputs": [
    {
     "name": "stdout",
     "output_type": "stream",
     "text": [
      "\n",
      "================================Current Image size=============================================================\n",
      "Current Image size: (8, 8)\n",
      "\n",
      "================================New Image size=============================================================\n",
      "Image Resolution: (18,18)\n",
      "\n",
      "================================Hyperparameter and Results==================================================\n",
      "   Gamma    C  Dev_Accuracy  Train_Accuracy  Test_Accuracy\n",
      "0  0.020  0.1      0.055249        0.107168       0.094972\n",
      "1  0.020  0.3      0.055249        0.107168       0.094972\n",
      "2  0.020  0.8      0.055249        1.000000       0.094972\n",
      "3  0.020  0.7      0.055249        1.000000       0.094972\n",
      "4  0.020  2.0      0.055249        1.000000       0.094972\n",
      "5  0.020  0.4      0.055249        0.107168       0.094972\n",
      "6  0.007  0.1      0.055249        0.107168       0.094972\n",
      "7  0.007  0.3      0.055249        0.107168       0.094972\n",
      "8  0.007  0.8      0.093923        1.000000       0.094972\n",
      "9  0.007  0.7      0.077348        1.000000       0.094972\n",
      "\n",
      "\n",
      "\n",
      "================================Report=====================================================================\n",
      "Classification report for classifier SVC(C=0.8, gamma=0.0009):\n",
      "              precision    recall  f1-score   support\n",
      "\n",
      "           0       1.00      0.96      0.98        26\n",
      "           1       1.00      1.00      1.00        22\n",
      "           2       1.00      1.00      1.00        16\n",
      "           3       0.94      1.00      0.97        16\n",
      "           4       0.94      1.00      0.97        17\n",
      "           5       1.00      0.94      0.97        16\n",
      "           6       1.00      1.00      1.00        19\n",
      "           7       1.00      1.00      1.00        18\n",
      "           8       1.00      1.00      1.00        13\n",
      "           9       0.94      0.94      0.94        16\n",
      "\n",
      "    accuracy                           0.98       179\n",
      "   macro avg       0.98      0.98      0.98       179\n",
      "weighted avg       0.98      0.98      0.98       179\n",
      "\n",
      "\n",
      "\n",
      "\n",
      "\n",
      "================================Best hyperparameters and Accuracy===========================================\n",
      "Best C:0.8 and Gamma:0.0009\n",
      "Best Dev Accuracy:0.994475138121547\n",
      "Best Train Accuracy:0.9993041057759221\n",
      "Best Test Accuracy:0.9832402234636871\n",
      "\n",
      "\n",
      "\n",
      "================================Predicted Images=============================================================\n"
     ]
    },
    {
     "data": {
      "image/png": "[encoded data removed]",
      "text/plain": [
       "<Figure size 720x216 with 4 Axes>"
      ]
     },
     "metadata": {
      "needs_background": "light"
     },
     "output_type": "display_data"
    }
   ],
   "source": [
    "#new resolution 18*18\n",
    "res = 18\n",
    "run_with_hyperparameters(resize_images(res,digits.images), digits.target, res)"
   ]
  },
  {
   "cell_type": "code",
   "execution_count": null,
   "id": "bd114d5c",
   "metadata": {},
   "outputs": [],
   "source": []
  }
 ],
 "metadata": {
  "kernelspec": {
   "display_name": "Python 3 (ipykernel)",
   "language": "python",
   "name": "python3"
  },
  "language_info": {
   "codemirror_mode": {
    "name": "ipython",
    "version": 3
   },
   "file_extension": ".py",
   "mimetype": "text/x-python",
   "name": "python",
   "nbconvert_exporter": "python",
   "pygments_lexer": "ipython3",
   "version": "3.9.7"
  }
 },
 "nbformat": 4,
 "nbformat_minor": 5
}
